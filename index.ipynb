{
 "cells": [
  {
   "cell_type": "markdown",
   "metadata": {},
   "source": [
    "# Matrix models in action\n",
    "\n",
    "Let's generate a demographic transition matrix and a vector of initial population densities. Assume the following:\n",
    "<img src=\"diagram.png\" alt=\"Drawing\" style=\"width: 300px;\"/>\n",
    "\n",
    "- Probability of staying juvenile = 0\n",
    "- Probability of maturing = 0.1\n",
    "- Probability of survival = 0.2\n",
    "- Birth rate = 10\n",
    "- Initial population of juveniles = 0\n",
    "- Initial population of adults = 1\n"
   ]
  },
  {
   "cell_type": "markdown",
   "metadata": {},
   "source": [
    "### Express as a matrix model\n",
    "\n",
    "<font color='green'>**Exercise 1.** Write the corresponding transition matrix and the population vector. Make sure that the transition matrix is a 2-by-2 matrix and the population vector is a column vector (or a 2-by-1 matrix). <font>"
   ]
  },
  {
   "cell_type": "code",
   "execution_count": null,
   "metadata": {
    "solution2": "hidden",
    "solution2_first": true
   },
   "outputs": [],
   "source": [
    "# Insert code\n",
    "\n"
   ]
  },
  {
   "cell_type": "code",
   "execution_count": null,
   "metadata": {
    "solution2": "hidden"
   },
   "outputs": [],
   "source": [
    "# Create a matrix and a vector of population densities\n",
    "(transition.matrix <- matrix(c(0,10,0.1,0.2),nrow=2,ncol=2,byrow=T))\n",
    "(pop.vector <- matrix(c(0,1),ncol=1)) # Notice that we create a column vector"
   ]
  },
  {
   "cell_type": "markdown",
   "metadata": {},
   "source": [
    "<font color='green'>**Exercise 2.** Project the population one time step into the future (hint: in R, %*% operation is a matrix multiplication). <font>"
   ]
  },
  {
   "cell_type": "code",
   "execution_count": null,
   "metadata": {
    "solution2": "hidden",
    "solution2_first": true
   },
   "outputs": [],
   "source": [
    "# Insert code\n",
    "\n"
   ]
  },
  {
   "cell_type": "code",
   "execution_count": null,
   "metadata": {
    "solution2": "hidden"
   },
   "outputs": [],
   "source": [
    "projection <- transition.matrix %*% pop.vector\n",
    "projection"
   ]
  },
  {
   "cell_type": "markdown",
   "metadata": {},
   "source": [
    "### Projecting the matrix model\n",
    "\n",
    "Using the information above, I can project the population of juveniles and adults for any given number of time steps. In R, I would use a \"for loop\", and I would store the results in a matrix where every column is the population at every time step. Make sure that you have properly run the solution code of the previous exercises before executing the code below."
   ]
  },
  {
   "cell_type": "code",
   "execution_count": null,
   "metadata": {},
   "outputs": [],
   "source": [
    "time.steps=50\n",
    "for (t in 1:time.steps){\n",
    "  temp <- transition.matrix %*% pop.vector[,t]\n",
    "  pop.vector <- as.matrix(cbind(pop.vector,temp))\n",
    "  }"
   ]
  },
  {
   "cell_type": "markdown",
   "metadata": {},
   "source": [
    "Print out the \"pop.vector\" to understand the information contained in it."
   ]
  },
  {
   "cell_type": "code",
   "execution_count": null,
   "metadata": {},
   "outputs": [],
   "source": [
    "pop.vector"
   ]
  },
  {
   "cell_type": "markdown",
   "metadata": {},
   "source": [
    "One way to visualize the results is to plot how the populations of juveniles and adults change over time (if you see errors in your notebook when executing the code below is because you have not run the solution codes)."
   ]
  },
  {
   "cell_type": "code",
   "execution_count": null,
   "metadata": {},
   "outputs": [],
   "source": [
    "# plot the population trajectories\n",
    "par(mfrow=c(1,1))\n",
    "plot(1:(time.steps+1),pop.vector[1,],ylim=c(0,50),pch=16, xlab=\" \", ylab=\" \")\n",
    "lines(1:(time.steps+1),pop.vector[1,])\n",
    "points(1:(time.steps+1),pop.vector[2,],pch=1)\n",
    "lines(1:(time.steps+1),pop.vector[2,],lty=2)\n",
    "legend(\"topleft\",legend = c(\"Juveniles\",\"Adults\"),lty = c(1,2))"
   ]
  },
  {
   "cell_type": "markdown",
   "metadata": {
    "solution2": "hidden",
    "solution2_first": true
   },
   "source": [
    "<font color='green'>**Exercise 3.** What do the axes of the figure describe?.<font>"
   ]
  },
  {
   "cell_type": "markdown",
   "metadata": {
    "solution2": "hidden"
   },
   "source": [
    "The population of juveniles and adults over time"
   ]
  },
  {
   "cell_type": "markdown",
   "metadata": {},
   "source": [
    "<font color='green'>**Exercise 4.** How would you calculate the total population size $N$ at each time step.<font>"
   ]
  },
  {
   "cell_type": "code",
   "execution_count": null,
   "metadata": {
    "solution2": "hidden",
    "solution2_first": true
   },
   "outputs": [],
   "source": [
    "# Insert code\n",
    "\n"
   ]
  },
  {
   "cell_type": "code",
   "execution_count": null,
   "metadata": {
    "solution2": "hidden"
   },
   "outputs": [],
   "source": [
    "# calculate total population size after each timestep\n",
    "total.pop.sizes <- colSums(pop.vector)\n",
    "total.pop.sizes"
   ]
  },
  {
   "cell_type": "markdown",
   "metadata": {},
   "source": [
    "### Population growth rate and stable stage distribution\n",
    "\n",
    "<font color='green'>**Exercise 5.** Use the total population at times t=9 and t=10 to find the population growth rate.<font>"
   ]
  },
  {
   "cell_type": "code",
   "execution_count": null,
   "metadata": {
    "solution2": "hidden",
    "solution2_first": true
   },
   "outputs": [],
   "source": [
    "# Insert code\n",
    "\n"
   ]
  },
  {
   "cell_type": "code",
   "execution_count": null,
   "metadata": {
    "solution2": "hidden"
   },
   "outputs": [],
   "source": [
    "# Population growth rate given the populations at times t=49 and t=50\n",
    "total.pop.sizes[10]/total.pop.sizes[9]"
   ]
  },
  {
   "cell_type": "markdown",
   "metadata": {},
   "source": [
    "<font color='green'>**Exercise 6.** What's the stable stage distribution? Given the following population vector and total population, calculate the stable stage distribution.<font>"
   ]
  },
  {
   "cell_type": "markdown",
   "metadata": {},
   "source": [
    "  \\begin{align}\n",
    "    \\text{n}(t=50) &= \\begin{bmatrix}\n",
    "           732.25 \\\\\n",
    "           80.92\n",
    "         \\end{bmatrix}\n",
    "  \\end{align}\n",
    "  \n",
    "  $$N(t=50) = 813.17$$"
   ]
  },
  {
   "cell_type": "code",
   "execution_count": null,
   "metadata": {
    "solution2": "hidden",
    "solution2_first": true
   },
   "outputs": [],
   "source": [
    "# Insert code\n",
    "\n"
   ]
  },
  {
   "cell_type": "code",
   "execution_count": null,
   "metadata": {
    "solution2": "hidden"
   },
   "outputs": [],
   "source": [
    "pop.vector[,50]/total.pop.sizes[50]"
   ]
  },
  {
   "cell_type": "markdown",
   "metadata": {
    "solution2": "hidden",
    "solution2_first": true
   },
   "source": [
    "<font color='green'>**Exercise 7.** How would you calculate the population growth rate when the stable stage distribution has been reached? Discuss this with the members of your group.<font>"
   ]
  },
  {
   "cell_type": "markdown",
   "metadata": {
    "solution2": "hidden"
   },
   "source": [
    "One possible way is by doing the same as in exercise 5 for t=49 and t=50. However, the dominant eigenvalue provides us an easy way to find the population growth rate. In R, you can calculate the dominant eigenvalue from a given matrix M by running:\n",
    "```r\n",
    "eigen(M)$value[1]\n",
    "```"
   ]
  },
  {
   "cell_type": "markdown",
   "metadata": {},
   "source": [
    "Let's visualize how the population growth rate changes over time, and find the growth rate when we reach the stable stage distribution."
   ]
  },
  {
   "cell_type": "code",
   "execution_count": null,
   "metadata": {},
   "outputs": [],
   "source": [
    "#### population growth rate ####\n",
    "# first calculate total population size after each timestep\n",
    "total.pop.sizes <- colSums(pop.vector)\n",
    "\n",
    "# then create dataframe with initial and final population sizes for each timestep\n",
    "dat <- as.data.frame(cbind(1:time.steps,total.pop.sizes[1:length(total.pop.sizes)-1],total.pop.sizes[2:length(total.pop.sizes)]))\n",
    "names(dat) <- c(\"time.step\",\"intial.pop.size\",\"final.pop.size\")\n",
    "dat$growth <- dat$final.pop.size/dat$intial.pop.size\n",
    "\n",
    "# plot the population growth rate\n",
    "plot(dat$time.step,dat$growth,pch=16, xlab=\"time\", ylab=\"lambda\")\n",
    "lines(dat$time.step,dat$growth)\n",
    "\n",
    "# add a line on the plot showing the leading eigenvalue, \n",
    "# which should be the population growth rate that the population converges on\n",
    "# get the eigenvalues and eigenvectors\n",
    "eigen.output <- eigen(transition.matrix)\n",
    "# add a line to the plot showing the growth rate represented by the leading eigenvalue\n",
    "abline(h=eigen.output$value[1],col=\"red\")"
   ]
  },
  {
   "cell_type": "markdown",
   "metadata": {
    "solution2": "hidden",
    "solution2_first": true
   },
   "source": [
    "<font color='green'>**Exercise 8.** Discuss this with the members of your group the plot generated above. What does the red line indicate?<font>"
   ]
  },
  {
   "cell_type": "markdown",
   "metadata": {
    "solution2": "hidden"
   },
   "source": [
    "The dominant eigenvalue---i.e. the population growth rate"
   ]
  },
  {
   "cell_type": "markdown",
   "metadata": {},
   "source": [
    "<font color='green'>**Exercise 9.** In which way is the dominant eigenvector related to the stable stage distribution? Show it (hint: remember that the stable stage distribution are proportions, and these needs to sum 1)<font>"
   ]
  },
  {
   "cell_type": "code",
   "execution_count": null,
   "metadata": {
    "solution2": "hidden",
    "solution2_first": true
   },
   "outputs": [],
   "source": [
    "# Insert code\n",
    "\n"
   ]
  },
  {
   "cell_type": "code",
   "execution_count": null,
   "metadata": {
    "solution2": "hidden"
   },
   "outputs": [],
   "source": [
    "# Notice that we can obtain the stable stage distribution found in Exercise 7 by calculating the dominant \n",
    "# eigenvector and normalizing it.\n",
    "\n",
    "dominant.eigenvec <- eigen(transition.matrix)$vector[,1]\n",
    "dominant.eigenvec/sum(dominant.eigenvec)"
   ]
  },
  {
   "cell_type": "markdown",
   "metadata": {},
   "source": [
    "Let's visualize how the proportion of juveniles and adults change over time."
   ]
  },
  {
   "cell_type": "code",
   "execution_count": null,
   "metadata": {},
   "outputs": [],
   "source": [
    "#### stage/age distribution ####\n",
    "# first plot the proportion of adults and juveniles in the population\n",
    "# create dataframe with adults, juveniles and total population size, so can calculate proportions\n",
    "dat2 <- as.data.frame(cbind(pop.vector[1,],pop.vector[2,],total.pop.sizes))\n",
    "names(dat2) <- c(\"juveniles\",\"adults\",\"total.pop.size\")\n",
    "dat2$prop.juv <- dat2$juveniles/dat2$total.pop.size\n",
    "dat2$prop.adults <- dat2$adults/dat2$total.pop.size\n",
    "dat2$time.steps <- 1:51\n",
    "\n",
    "# plot the proportions in each class\n",
    "plot(dat2$time.steps,dat2$prop.juv,pch=16, xlab=\"time\", ylab=\"proportion\")\n",
    "lines(dat2$time.steps,dat2$prop.juv)\n",
    "points(dat2$time.steps,dat2$prop.adults)\n",
    "lines(dat2$time.steps,dat2$prop.adults,lty=2)\n",
    "\n",
    "# now see if the proportions converge on those predicted by the eigenvector.  \n",
    "eigen.results <- eigen(transition.matrix)\n",
    "\n",
    "# to get the predicted proportions you need to get the ratio of each element of the leading eigenvector over the sum of both elements of the leading eigenvector\n",
    "prop.juveniles.via.eigen <- eigen.results$vectors[1,1]/sum(eigen.results$vectors[,1])\n",
    "prop.adults.via.eigen <- eigen.results$vectors[2,1]/sum(eigen.results$vectors[,1])\n",
    "\n",
    "# add these proportions to the plot to see if they converge\n",
    "abline(h=prop.juveniles.via.eigen,col=\"red\")\n",
    "abline(h=prop.adults.via.eigen,col=\"red\")"
   ]
  },
  {
   "cell_type": "markdown",
   "metadata": {
    "solution2": "hidden",
    "solution2_first": true
   },
   "source": [
    "<font color='green'>**Exercise 10.** Discuss this with the members of your group the plot generated above. What do the red lines indicate?<font>"
   ]
  },
  {
   "cell_type": "markdown",
   "metadata": {
    "solution2": "hidden"
   },
   "source": [
    "The red lines indicate the values for the stable stage distribution"
   ]
  },
  {
   "cell_type": "markdown",
   "metadata": {},
   "source": [
    "Finally, let's visualize how the relationship between the number of juveniles and and the number of adult individuals. "
   ]
  },
  {
   "cell_type": "code",
   "execution_count": null,
   "metadata": {},
   "outputs": [],
   "source": [
    "#### phase plane ####\n",
    "# plot the number of juveniles on the x-axis and the number of adults on the y-axis\n",
    "# because the eigenvector values are negative, include axes that also cover negative parts of the phase plane\n",
    "plot(pop.vector[1,],pop.vector[2,],xlim=c(-2,35),ylim=c(-0.5,5),pch=16,xlab=\"number of juveniles\",ylab=\"number of adults\")\n",
    "lines(pop.vector[1,],pop.vector[2,])\n",
    "# draw the axes\n",
    "abline(h=0)\n",
    "abline(v=0)\n",
    "# plot the leading eigenvector associated with the leading eigenvalue. This is plotting the vector from the origin, to the x-y coordinates represented by the elements of the eigenvector\n",
    "lines(x=c(0,-0.9939504),y=c(0,-0.1098303),col=\"red\",lwd=3) # the actual eigenvector is really short. \n",
    "\n",
    "# draw the extension of the eigenvector, according to the leading eigenvector's slope and intercept. The key point is that the population converges on this line.\n",
    "# a specifies the intercept and b specifies the slope (=rise/run = adults/juveniles)\n",
    "abline(a = 0,b = -0.1098303/-0.9939504,col=\"red\")"
   ]
  },
  {
   "cell_type": "markdown",
   "metadata": {
    "solution2": "hidden",
    "solution2_first": true
   },
   "source": [
    "<font color='green'>**Exercise 11.** Discuss this with the members of your group the plot generated above. What does the red line indicate?<font>"
   ]
  },
  {
   "cell_type": "markdown",
   "metadata": {
    "solution2": "hidden"
   },
   "source": [
    "The red line indicates the stable stage distribution."
   ]
  },
  {
   "cell_type": "markdown",
   "metadata": {},
   "source": [
    "# Quiz questions about Parker 2000"
   ]
  },
  {
   "cell_type": "markdown",
   "metadata": {
    "solution2": "hidden",
    "solution2_first": true
   },
   "source": [
    "<font color='green'>**Question 1.** In which year and city was the first specimen of _Cytisus scoparius_ collected?<font>"
   ]
  },
  {
   "cell_type": "markdown",
   "metadata": {
    "solution2": "hidden"
   },
   "source": [
    "- 1888, Seatle"
   ]
  },
  {
   "cell_type": "markdown",
   "metadata": {
    "solution2": "hidden",
    "solution2_first": true
   },
   "source": [
    "<font color='green'>**Question 2.** What are two ways that dispersal of seeds occurs in _Cytisus scoparius_?<font>"
   ]
  },
  {
   "cell_type": "markdown",
   "metadata": {
    "solution2": "hidden"
   },
   "source": [
    "- explosive dehiscence\n",
    "- dispersal by ants"
   ]
  },
  {
   "cell_type": "markdown",
   "metadata": {
    "solution2": "hidden",
    "solution2_first": true
   },
   "source": [
    "<font color='green'>**Question 3.** How many stages in the life-cycle graph of _Cytisus scoparius_?<font>"
   ]
  },
  {
   "cell_type": "markdown",
   "metadata": {
    "solution2": "hidden"
   },
   "source": [
    "- seven"
   ]
  },
  {
   "cell_type": "markdown",
   "metadata": {
    "solution2": "hidden",
    "solution2_first": true
   },
   "source": [
    "<font color='green'>**Question 4.** How are stages defined for _Cytisus scoparius_?<font>"
   ]
  },
  {
   "cell_type": "markdown",
   "metadata": {
    "solution2": "hidden"
   },
   "source": [
    "- plant size\n",
    "- life history characteristics"
   ]
  },
  {
   "cell_type": "markdown",
   "metadata": {
    "solution2": "hidden",
    "solution2_first": true
   },
   "source": [
    "<font color='green'>**Question 5.** What does seem to happen at the advancing edge of _Cytisus scoparius_ invasions?<font>"
   ]
  },
  {
   "cell_type": "markdown",
   "metadata": {
    "solution2": "hidden"
   },
   "source": [
    "- all sites showed positive growth rates"
   ]
  },
  {
   "cell_type": "markdown",
   "metadata": {
    "solution2": "hidden",
    "solution2_first": true
   },
   "source": [
    "<font color='green'>**Question 6.** Which life history stage / demographic transition tended to make the largest contribution to the population growth rate in centre plots?<font>"
   ]
  },
  {
   "cell_type": "markdown",
   "metadata": {
    "solution2": "hidden"
   },
   "source": [
    "- extra-large Adults"
   ]
  },
  {
   "cell_type": "code",
   "execution_count": null,
   "metadata": {},
   "outputs": [],
   "source": []
  }
 ],
 "metadata": {
  "kernelspec": {
   "display_name": "R",
   "language": "R",
   "name": "ir"
  },
  "language_info": {
   "codemirror_mode": "r",
   "file_extension": ".r",
   "mimetype": "text/x-r-source",
   "name": "R",
   "pygments_lexer": "r",
   "version": "3.6.1"
  }
 },
 "nbformat": 4,
 "nbformat_minor": 2
}
